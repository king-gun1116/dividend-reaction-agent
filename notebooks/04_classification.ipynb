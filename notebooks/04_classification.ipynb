{
 "cells": [
  {
   "cell_type": "code",
   "execution_count": 18,
   "metadata": {},
   "outputs": [],
   "source": [
    "# 기존 fetch(code, start, end) 대신 아래로 교체\n",
    "def fetch(code):\n",
    "    cache = cache_dir / f\"{code}.csv\"\n",
    "    # ① KRX 전체 과거\n",
    "    try:\n",
    "        df = fdr.DataReader(f\"KRX:{code}\")\n",
    "    except:\n",
    "        # ② Naver fallback\n",
    "        df = fdr.DataReader(code)\n",
    "    df = (\n",
    "        df.reset_index()[[\"Date\",\"Close\",\"Volume\"]]\n",
    "          .rename(columns={\"Date\":\"date\",\"Close\":\"close\",\"Volume\":\"volume\"})\n",
    "    )\n",
    "    df[\"stock_code\"] = code\n",
    "    df.to_csv(cache, index=False)   # 캐시 덮어쓰기\n",
    "    return df"
   ]
  },
  {
   "cell_type": "code",
   "execution_count": null,
   "metadata": {},
   "outputs": [
    {
     "name": "stderr",
     "output_type": "stream",
     "text": [
      "Classification FE: 100%|██████████| 15460/15460 [00:02<00:00, 5957.00it/s]\n"
     ]
    },
    {
     "name": "stdout",
     "output_type": "stream",
     "text": [
      "▶ 분류용 샘플 수: 4,022  (≈26.0% 유지)\n",
      "✅ 분류 데이터 저장 → /Users/gun/Desktop/미래에셋 AI 공모전/data/module_datasets/classification.csv\n"
     ]
    }
   ],
   "source": [
    "import os, warnings\n",
    "warnings.filterwarnings(\"ignore\", category=FutureWarning)\n",
    "from datetime import timedelta\n",
    "import pandas as pd, numpy as np\n",
    "from tqdm.auto import tqdm\n",
    "\n",
    "BASE        = \"/Users/gun/Desktop/미래에셋 AI 공모전/data\"\n",
    "DIV_FP      = os.path.join(BASE, \"dividend_ml_ready.csv\")\n",
    "CACHE_DIR   = os.path.join(BASE, \"price_cache\")\n",
    "SECTOR_FP   = os.path.join(BASE, \"sector_info.csv\")\n",
    "OUT_FP      = os.path.join(BASE, \"module_datasets\", \"classification.csv\")\n",
    "os.makedirs(os.path.dirname(OUT_FP), exist_ok=True)\n",
    "\n",
    "# 1️⃣ 이벤트 & rank\n",
    "df_div = pd.read_csv(DIV_FP, dtype={\"stock_code\":str,\"rcept_no\":str})\n",
    "df_div[\"rcept_dt\"] = pd.to_datetime(df_div[\"rcept_no\"].str[:8], format=\"%Y%m%d\", errors=\"coerce\")\n",
    "df_div.dropna(subset=[\"rcept_dt\"], inplace=True)\n",
    "df_div[\"period\"] = df_div[\"rcept_dt\"].dt.to_period(\"M\")\n",
    "df_div[\"div_amount_rank\"] = df_div.groupby(\"period\")[\"per_share_common\"].rank(pct=True)\n",
    "df_div.drop(columns=\"period\", inplace=True)\n",
    "\n",
    "# 2️⃣ 섹터 매핑\n",
    "sec = pd.read_csv(SECTOR_FP, dtype=str)\n",
    "sec[\"stock_code\"] = sec[\"stock_code\"].str.zfill(6)\n",
    "sec_map = sec.set_index(\"stock_code\")[\"sector\"].to_dict()\n",
    "\n",
    "# 3️⃣ 풀 히스토리 캐시 로딩\n",
    "price_data = {}\n",
    "for code in df_div[\"stock_code\"].unique():\n",
    "    fn = os.path.join(CACHE_DIR, f\"{code}.csv\")\n",
    "    if os.path.exists(fn):\n",
    "        price_data[code] = pd.read_csv(fn, parse_dates=[\"date\"])\n",
    "\n",
    "# 4️⃣ FE 생성 (윈도우 = 1일)\n",
    "feats = []\n",
    "for _, row in tqdm(df_div.iterrows(), total=len(df_div), desc=\"Classification FE\"):\n",
    "    code, dt = row.stock_code, row.rcept_dt\n",
    "    sub = price_data.get(code)\n",
    "    if sub is None: continue\n",
    "\n",
    "    # dt → 실제 거래일 보정\n",
    "    if dt not in sub.date.values:\n",
    "        fut = sub.loc[sub.date>=dt,\"date\"]\n",
    "        if fut.empty: continue\n",
    "        dt_adj = fut.min()\n",
    "    else:\n",
    "        dt_adj = dt\n",
    "\n",
    "    sub = sub.sort_values(\"date\").reset_index(drop=True)\n",
    "    idx = sub.date.searchsorted(dt_adj)\n",
    "    if idx+1 >= len(sub): continue\n",
    "\n",
    "    c = sub.close.values\n",
    "    ret1 = c[idx+1]/c[idx] - 1\n",
    "\n",
    "    feats.append({\n",
    "        \"stock_code\":       code,\n",
    "        \"rcept_dt\":         dt_adj,\n",
    "        \"sector\":           sec_map.get(code, \"\"),\n",
    "        \"per_share_common\": row.per_share_common,\n",
    "        \"yield_common\":     row.yield_common,\n",
    "        \"total_amount\":     row.total_amount,\n",
    "        \"div_amount_rank\":  row.div_amount_rank,\n",
    "        \"gap_before\":       (c[idx]/c[idx-1]-1) if idx>0 else 0.0,\n",
    "        \"month\":            dt_adj.month,\n",
    "        \"is_year_end\":      int(dt_adj.month==12),\n",
    "        \"sector_avg_yield_gap\": (\n",
    "            row.yield_common\n",
    "            - df_div[df_div.rcept_dt.dt.to_period(\"M\")\n",
    "                        == dt_adj.to_period(\"M\")]\n",
    "                   .yield_common.mean()\n",
    "        ),\n",
    "        \"up_1d\":            int(ret1>0),\n",
    "    })\n",
    "\n",
    "df_clf = pd.DataFrame(feats)\n",
    "print(f\"▶ 분류용 샘플 수: {len(df_clf):,}  (≈{len(df_clf)/len(df_div):.1%} 유지)\")\n",
    "df_clf.to_csv(OUT_FP, index=False, encoding=\"utf-8-sig\")\n",
    "print(\"✅ 분류 데이터 저장 →\", OUT_FP)"
   ]
  }
 ],
 "metadata": {
  "kernelspec": {
   "display_name": "Python 3",
   "language": "python",
   "name": "python3"
  },
  "language_info": {
   "codemirror_mode": {
    "name": "ipython",
    "version": 3
   },
   "file_extension": ".py",
   "mimetype": "text/x-python",
   "name": "python",
   "nbconvert_exporter": "python",
   "pygments_lexer": "ipython3",
   "version": "3.13.2"
  }
 },
 "nbformat": 4,
 "nbformat_minor": 2
}
